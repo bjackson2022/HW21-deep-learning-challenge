{
 "cells": [
  {
   "cell_type": "code",
   "execution_count": 1,
   "id": "71a799dd",
   "metadata": {},
   "outputs": [
    {
     "data": {
      "text/html": [
       "<div>\n",
       "<style scoped>\n",
       "    .dataframe tbody tr th:only-of-type {\n",
       "        vertical-align: middle;\n",
       "    }\n",
       "\n",
       "    .dataframe tbody tr th {\n",
       "        vertical-align: top;\n",
       "    }\n",
       "\n",
       "    .dataframe thead th {\n",
       "        text-align: right;\n",
       "    }\n",
       "</style>\n",
       "<table border=\"1\" class=\"dataframe\">\n",
       "  <thead>\n",
       "    <tr style=\"text-align: right;\">\n",
       "      <th></th>\n",
       "      <th>EIN</th>\n",
       "      <th>NAME</th>\n",
       "      <th>APPLICATION_TYPE</th>\n",
       "      <th>AFFILIATION</th>\n",
       "      <th>CLASSIFICATION</th>\n",
       "      <th>USE_CASE</th>\n",
       "      <th>ORGANIZATION</th>\n",
       "      <th>STATUS</th>\n",
       "      <th>INCOME_AMT</th>\n",
       "      <th>SPECIAL_CONSIDERATIONS</th>\n",
       "      <th>ASK_AMT</th>\n",
       "      <th>IS_SUCCESSFUL</th>\n",
       "    </tr>\n",
       "  </thead>\n",
       "  <tbody>\n",
       "    <tr>\n",
       "      <th>0</th>\n",
       "      <td>10520599</td>\n",
       "      <td>BLUE KNIGHTS MOTORCYCLE CLUB</td>\n",
       "      <td>T10</td>\n",
       "      <td>Independent</td>\n",
       "      <td>C1000</td>\n",
       "      <td>ProductDev</td>\n",
       "      <td>Association</td>\n",
       "      <td>1</td>\n",
       "      <td>0</td>\n",
       "      <td>N</td>\n",
       "      <td>5000</td>\n",
       "      <td>1</td>\n",
       "    </tr>\n",
       "    <tr>\n",
       "      <th>1</th>\n",
       "      <td>10531628</td>\n",
       "      <td>AMERICAN CHESAPEAKE CLUB CHARITABLE TR</td>\n",
       "      <td>T3</td>\n",
       "      <td>Independent</td>\n",
       "      <td>C2000</td>\n",
       "      <td>Preservation</td>\n",
       "      <td>Co-operative</td>\n",
       "      <td>1</td>\n",
       "      <td>1-9999</td>\n",
       "      <td>N</td>\n",
       "      <td>108590</td>\n",
       "      <td>1</td>\n",
       "    </tr>\n",
       "    <tr>\n",
       "      <th>2</th>\n",
       "      <td>10547893</td>\n",
       "      <td>ST CLOUD PROFESSIONAL FIREFIGHTERS</td>\n",
       "      <td>T5</td>\n",
       "      <td>CompanySponsored</td>\n",
       "      <td>C3000</td>\n",
       "      <td>ProductDev</td>\n",
       "      <td>Association</td>\n",
       "      <td>1</td>\n",
       "      <td>0</td>\n",
       "      <td>N</td>\n",
       "      <td>5000</td>\n",
       "      <td>0</td>\n",
       "    </tr>\n",
       "    <tr>\n",
       "      <th>3</th>\n",
       "      <td>10553066</td>\n",
       "      <td>SOUTHSIDE ATHLETIC ASSOCIATION</td>\n",
       "      <td>T3</td>\n",
       "      <td>CompanySponsored</td>\n",
       "      <td>C2000</td>\n",
       "      <td>Preservation</td>\n",
       "      <td>Trust</td>\n",
       "      <td>1</td>\n",
       "      <td>10000-24999</td>\n",
       "      <td>N</td>\n",
       "      <td>6692</td>\n",
       "      <td>1</td>\n",
       "    </tr>\n",
       "    <tr>\n",
       "      <th>4</th>\n",
       "      <td>10556103</td>\n",
       "      <td>GENETIC RESEARCH INSTITUTE OF THE DESERT</td>\n",
       "      <td>T3</td>\n",
       "      <td>Independent</td>\n",
       "      <td>C1000</td>\n",
       "      <td>Heathcare</td>\n",
       "      <td>Trust</td>\n",
       "      <td>1</td>\n",
       "      <td>100000-499999</td>\n",
       "      <td>N</td>\n",
       "      <td>142590</td>\n",
       "      <td>1</td>\n",
       "    </tr>\n",
       "  </tbody>\n",
       "</table>\n",
       "</div>"
      ],
      "text/plain": [
       "        EIN                                      NAME APPLICATION_TYPE  \\\n",
       "0  10520599              BLUE KNIGHTS MOTORCYCLE CLUB              T10   \n",
       "1  10531628    AMERICAN CHESAPEAKE CLUB CHARITABLE TR               T3   \n",
       "2  10547893        ST CLOUD PROFESSIONAL FIREFIGHTERS               T5   \n",
       "3  10553066            SOUTHSIDE ATHLETIC ASSOCIATION               T3   \n",
       "4  10556103  GENETIC RESEARCH INSTITUTE OF THE DESERT               T3   \n",
       "\n",
       "        AFFILIATION CLASSIFICATION      USE_CASE  ORGANIZATION  STATUS  \\\n",
       "0       Independent          C1000    ProductDev   Association       1   \n",
       "1       Independent          C2000  Preservation  Co-operative       1   \n",
       "2  CompanySponsored          C3000    ProductDev   Association       1   \n",
       "3  CompanySponsored          C2000  Preservation         Trust       1   \n",
       "4       Independent          C1000     Heathcare         Trust       1   \n",
       "\n",
       "      INCOME_AMT SPECIAL_CONSIDERATIONS  ASK_AMT  IS_SUCCESSFUL  \n",
       "0              0                      N     5000              1  \n",
       "1         1-9999                      N   108590              1  \n",
       "2              0                      N     5000              0  \n",
       "3    10000-24999                      N     6692              1  \n",
       "4  100000-499999                      N   142590              1  "
      ]
     },
     "execution_count": 1,
     "metadata": {},
     "output_type": "execute_result"
    }
   ],
   "source": [
    "# Import dependencies\n",
    "import pandas as pd\n",
    "import tensorflow as tf\n",
    "from tensorflow.keras.callbacks import ModelCheckpoint\n",
    "from sklearn.model_selection import train_test_split\n",
    "from sklearn.preprocessing import StandardScaler,OneHotEncoder\n",
    "import numpy as np\n",
    "\n",
    "# Load the charity_data.csv into a DataFrame\n",
    "application_df = pd.read_csv(\"charity_data.csv\")\n",
    "application_df.head()"
   ]
  },
  {
   "cell_type": "code",
   "execution_count": 2,
   "id": "d0dbb880",
   "metadata": {},
   "outputs": [
    {
     "data": {
      "text/html": [
       "<div>\n",
       "<style scoped>\n",
       "    .dataframe tbody tr th:only-of-type {\n",
       "        vertical-align: middle;\n",
       "    }\n",
       "\n",
       "    .dataframe tbody tr th {\n",
       "        vertical-align: top;\n",
       "    }\n",
       "\n",
       "    .dataframe thead th {\n",
       "        text-align: right;\n",
       "    }\n",
       "</style>\n",
       "<table border=\"1\" class=\"dataframe\">\n",
       "  <thead>\n",
       "    <tr style=\"text-align: right;\">\n",
       "      <th></th>\n",
       "      <th>APPLICATION_TYPE</th>\n",
       "      <th>AFFILIATION</th>\n",
       "      <th>CLASSIFICATION</th>\n",
       "      <th>USE_CASE</th>\n",
       "      <th>ORGANIZATION</th>\n",
       "      <th>STATUS</th>\n",
       "      <th>INCOME_AMT</th>\n",
       "      <th>SPECIAL_CONSIDERATIONS</th>\n",
       "      <th>ASK_AMT</th>\n",
       "      <th>IS_SUCCESSFUL</th>\n",
       "    </tr>\n",
       "  </thead>\n",
       "  <tbody>\n",
       "    <tr>\n",
       "      <th>0</th>\n",
       "      <td>T10</td>\n",
       "      <td>Independent</td>\n",
       "      <td>C1000</td>\n",
       "      <td>ProductDev</td>\n",
       "      <td>Association</td>\n",
       "      <td>1</td>\n",
       "      <td>0</td>\n",
       "      <td>N</td>\n",
       "      <td>5000</td>\n",
       "      <td>1</td>\n",
       "    </tr>\n",
       "    <tr>\n",
       "      <th>1</th>\n",
       "      <td>T3</td>\n",
       "      <td>Independent</td>\n",
       "      <td>C2000</td>\n",
       "      <td>Preservation</td>\n",
       "      <td>Co-operative</td>\n",
       "      <td>1</td>\n",
       "      <td>1-9999</td>\n",
       "      <td>N</td>\n",
       "      <td>108590</td>\n",
       "      <td>1</td>\n",
       "    </tr>\n",
       "    <tr>\n",
       "      <th>2</th>\n",
       "      <td>T5</td>\n",
       "      <td>CompanySponsored</td>\n",
       "      <td>C3000</td>\n",
       "      <td>ProductDev</td>\n",
       "      <td>Association</td>\n",
       "      <td>1</td>\n",
       "      <td>0</td>\n",
       "      <td>N</td>\n",
       "      <td>5000</td>\n",
       "      <td>0</td>\n",
       "    </tr>\n",
       "    <tr>\n",
       "      <th>3</th>\n",
       "      <td>T3</td>\n",
       "      <td>CompanySponsored</td>\n",
       "      <td>C2000</td>\n",
       "      <td>Preservation</td>\n",
       "      <td>Trust</td>\n",
       "      <td>1</td>\n",
       "      <td>10000-24999</td>\n",
       "      <td>N</td>\n",
       "      <td>6692</td>\n",
       "      <td>1</td>\n",
       "    </tr>\n",
       "    <tr>\n",
       "      <th>4</th>\n",
       "      <td>T3</td>\n",
       "      <td>Independent</td>\n",
       "      <td>C1000</td>\n",
       "      <td>Heathcare</td>\n",
       "      <td>Trust</td>\n",
       "      <td>1</td>\n",
       "      <td>100000-499999</td>\n",
       "      <td>N</td>\n",
       "      <td>142590</td>\n",
       "      <td>1</td>\n",
       "    </tr>\n",
       "  </tbody>\n",
       "</table>\n",
       "</div>"
      ],
      "text/plain": [
       "  APPLICATION_TYPE       AFFILIATION CLASSIFICATION      USE_CASE  \\\n",
       "0              T10       Independent          C1000    ProductDev   \n",
       "1               T3       Independent          C2000  Preservation   \n",
       "2               T5  CompanySponsored          C3000    ProductDev   \n",
       "3               T3  CompanySponsored          C2000  Preservation   \n",
       "4               T3       Independent          C1000     Heathcare   \n",
       "\n",
       "   ORGANIZATION  STATUS     INCOME_AMT SPECIAL_CONSIDERATIONS  ASK_AMT  \\\n",
       "0   Association       1              0                      N     5000   \n",
       "1  Co-operative       1         1-9999                      N   108590   \n",
       "2   Association       1              0                      N     5000   \n",
       "3         Trust       1    10000-24999                      N     6692   \n",
       "4         Trust       1  100000-499999                      N   142590   \n",
       "\n",
       "   IS_SUCCESSFUL  \n",
       "0              1  \n",
       "1              1  \n",
       "2              0  \n",
       "3              1  \n",
       "4              1  "
      ]
     },
     "execution_count": 2,
     "metadata": {},
     "output_type": "execute_result"
    }
   ],
   "source": [
    "# Preprocess the data\n",
    "# Drop the EIN and NAME columns\n",
    "application_df.drop([\"EIN\", \"NAME\"], axis=1, inplace=True)\n",
    "application_df.head()"
   ]
  },
  {
   "cell_type": "code",
   "execution_count": 4,
   "id": "70d0273b",
   "metadata": {},
   "outputs": [
    {
     "data": {
      "text/plain": [
       "APPLICATION_TYPE            17\n",
       "AFFILIATION                  6\n",
       "CLASSIFICATION              71\n",
       "USE_CASE                     5\n",
       "ORGANIZATION                 4\n",
       "STATUS                       2\n",
       "INCOME_AMT                   9\n",
       "SPECIAL_CONSIDERATIONS       2\n",
       "ASK_AMT                   8747\n",
       "IS_SUCCESSFUL                2\n",
       "dtype: int64"
      ]
     },
     "execution_count": 4,
     "metadata": {},
     "output_type": "execute_result"
    }
   ],
   "source": [
    "# Determine the number of unique values in each column\n",
    "unique_df= application_df.nunique()\n",
    "unique_df"
   ]
  },
  {
   "cell_type": "code",
   "execution_count": 5,
   "id": "c607703c",
   "metadata": {},
   "outputs": [
    {
     "data": {
      "text/plain": [
       "Index(['CLASSIFICATION', 'ASK_AMT'], dtype='object')"
      ]
     },
     "execution_count": 5,
     "metadata": {},
     "output_type": "execute_result"
    }
   ],
   "source": [
    "# Determine which columns contain more than 20 unique values\n",
    "kept_columns_df = unique_df[unique_df > 20].index\n",
    "kept_columns_df"
   ]
  },
  {
   "cell_type": "code",
   "execution_count": 6,
   "id": "fffc9ab4",
   "metadata": {},
   "outputs": [],
   "source": [
    "# Drop the columns with more than 20 unique values\n",
    "# application_df.drop(drop_columns_df, axis=1, inplace=True)\n",
    "# application_df\n",
    "\n",
    "X = application_df.drop(kept_columns_df, axis=1, inplace=True)\n",
    "y = application_df['IS_SUCCESSFUL']"
   ]
  },
  {
   "cell_type": "code",
   "execution_count": 8,
   "id": "760fe797",
   "metadata": {},
   "outputs": [
    {
     "data": {
      "text/plain": [
       "Trust          23515\n",
       "Association    10255\n",
       "Other            529\n",
       "Name: ORGANIZATION, dtype: int64"
      ]
     },
     "execution_count": 8,
     "metadata": {},
     "output_type": "execute_result"
    }
   ],
   "source": [
    "# Bin the ORGANIZATION column\n",
    "# use the variable name `classifications_to_replace`\n",
    "classifications_to_replace = list(application_df[\"ORGANIZATION\"].value_counts()[application_df[\"ORGANIZATION\"].value_counts() < 1000].index)\n",
    "# Replace in dataframe\n",
    "for cls in classifications_to_replace:\n",
    "    application_df['ORGANIZATION'] = application_df['ORGANIZATION'].replace(cls,\"Other\")\n",
    "    \n",
    "# Check to make sure binning was successful\n",
    "application_df['ORGANIZATION'].value_counts()\n"
   ]
  },
  {
   "cell_type": "code",
   "execution_count": 11,
   "id": "decae2fc",
   "metadata": {},
   "outputs": [
    {
     "data": {
      "text/plain": [
       "Other       34286\n",
       "Regional       13\n",
       "Name: AFFILIATION, dtype: int64"
      ]
     },
     "execution_count": 11,
     "metadata": {},
     "output_type": "execute_result"
    }
   ],
   "source": [
    "# Bin the AFFILIATION column\n",
    "classification_counts = application_df[\"AFFILIATION\"].value_counts()\n",
    "replace_class = list(classification_counts[classification_counts > 20].index)\n",
    "for cls in replace_class:\n",
    "    application_df[\"AFFILIATION\"] = application_df[\"AFFILIATION\"].replace(cls,\"Other\")\n",
    "    \n",
    "# Check to make sure binning was successful\n",
    "application_df['AFFILIATION'].value_counts()"
   ]
  },
  {
   "cell_type": "code",
   "execution_count": 12,
   "id": "59a35945",
   "metadata": {},
   "outputs": [],
   "source": [
    "# Convert categorical data to numeric with `pd.get_dummies`\n",
    "X_encoded = pd.get_dummies(application_df)\n",
    "\n",
    "# Split our preprocessed data into our features and target arrays\n",
    "y = application_df['IS_SUCCESSFUL'].values\n",
    "X = X_encoded\n",
    "\n",
    "# Split the preprocessed data into a training and testing dataset\n",
    "X_train, X_test, y_train, y_test = train_test_split(X, y, random_state=78)"
   ]
  },
  {
   "cell_type": "code",
   "execution_count": 13,
   "id": "fca39b5a",
   "metadata": {},
   "outputs": [],
   "source": [
    "# Create a StandardScaler instances\n",
    "scaler = StandardScaler()\n",
    "\n",
    "# Fit the StandardScaler\n",
    "X_scaler = scaler.fit(X_train)\n",
    "\n",
    "# Scale the data\n",
    "X_train_scaled = X_scaler.transform(X_train)\n",
    "X_test_scaled = X_scaler.transform(X_test)"
   ]
  },
  {
   "cell_type": "code",
   "execution_count": 14,
   "id": "9d77125d",
   "metadata": {},
   "outputs": [
    {
     "name": "stdout",
     "output_type": "stream",
     "text": [
      "Model: \"sequential\"\n",
      "_________________________________________________________________\n",
      " Layer (type)                Output Shape              Param #   \n",
      "=================================================================\n",
      " dense (Dense)               (None, 8)                 328       \n",
      "                                                                 \n",
      " dense_1 (Dense)             (None, 5)                 45        \n",
      "                                                                 \n",
      " dense_2 (Dense)             (None, 1)                 6         \n",
      "                                                                 \n",
      "=================================================================\n",
      "Total params: 379\n",
      "Trainable params: 379\n",
      "Non-trainable params: 0\n",
      "_________________________________________________________________\n"
     ]
    }
   ],
   "source": [
    "# Define the model - deep neural net, i.e., the number of input features and hidden nodes for each layer.\n",
    "number_input_features = X_train.shape[1]\n",
    "hidden_nodes_layer1 =  8\n",
    "hidden_nodes_layer2 = 5\n",
    "\n",
    "nn = tf.keras.models.Sequential()\n",
    "\n",
    "\n",
    "# First hidden layer\n",
    "nn.add(\n",
    "    tf.keras.layers.Dense(units=hidden_nodes_layer1, input_dim=number_input_features, activation=\"relu\")\n",
    ")\n",
    "\n",
    "# Second hidden layer\n",
    "nn.add(tf.keras.layers.Dense(units=hidden_nodes_layer2, activation=\"relu\"))\n",
    "\n",
    "# Output layer\n",
    "nn.add(tf.keras.layers.Dense(units=1, activation=\"sigmoid\"))\n",
    "\n",
    "# Check the structure of the model\n",
    "nn.summary()"
   ]
  },
  {
   "cell_type": "code",
   "execution_count": 15,
   "id": "23b217e5",
   "metadata": {},
   "outputs": [],
   "source": [
    "# Compile the model\n",
    "nn.compile(loss=\"binary_crossentropy\", optimizer=\"adam\", metrics=[\"accuracy\"])\n",
    "\n",
    "# Define the checkpoint path and filenames\n",
    "checkpoint_path = \"AlphabetSoupCharity_Optimization.h5\"\n",
    "cp_callback = ModelCheckpoint(filepath=checkpoint_path, save_weights_only=True, save_freq=5*len(X_train))"
   ]
  },
  {
   "cell_type": "code",
   "execution_count": 16,
   "id": "a319fa39",
   "metadata": {},
   "outputs": [
    {
     "name": "stdout",
     "output_type": "stream",
     "text": [
      "Epoch 1/20\n",
      "804/804 [==============================] - 2s 2ms/step - loss: 0.2756 - accuracy: 0.8943\n",
      "Epoch 2/20\n",
      "804/804 [==============================] - 1s 2ms/step - loss: 0.0022 - accuracy: 1.0000\n",
      "Epoch 3/20\n",
      "804/804 [==============================] - 1s 2ms/step - loss: 5.0587e-04 - accuracy: 1.0000\n",
      "Epoch 4/20\n",
      "804/804 [==============================] - 1s 1ms/step - loss: 2.0276e-04 - accuracy: 1.0000\n",
      "Epoch 5/20\n",
      "804/804 [==============================] - 1s 2ms/step - loss: 9.9033e-05 - accuracy: 1.0000\n",
      "Epoch 6/20\n",
      "804/804 [==============================] - 2s 2ms/step - loss: 5.3400e-05 - accuracy: 1.0000\n",
      "Epoch 7/20\n",
      "804/804 [==============================] - 1s 2ms/step - loss: 3.0440e-05 - accuracy: 1.0000\n",
      "Epoch 8/20\n",
      "804/804 [==============================] - 1s 2ms/step - loss: 1.7967e-05 - accuracy: 1.0000\n",
      "Epoch 9/20\n",
      "804/804 [==============================] - 2s 2ms/step - loss: 1.0853e-05 - accuracy: 1.0000\n",
      "Epoch 10/20\n",
      "804/804 [==============================] - 1s 2ms/step - loss: 6.6631e-06 - accuracy: 1.0000\n",
      "Epoch 11/20\n",
      "804/804 [==============================] - 1s 2ms/step - loss: 4.1361e-06 - accuracy: 1.0000\n",
      "Epoch 12/20\n",
      "804/804 [==============================] - 1s 1ms/step - loss: 2.5875e-06 - accuracy: 1.0000\n",
      "Epoch 13/20\n",
      "804/804 [==============================] - 1s 1ms/step - loss: 1.6290e-06 - accuracy: 1.0000\n",
      "Epoch 14/20\n",
      "804/804 [==============================] - 1s 1ms/step - loss: 1.0301e-06 - accuracy: 1.0000\n",
      "Epoch 15/20\n",
      "804/804 [==============================] - 1s 2ms/step - loss: 6.5393e-07 - accuracy: 1.0000\n",
      "Epoch 16/20\n",
      "804/804 [==============================] - 1s 1ms/step - loss: 4.1615e-07 - accuracy: 1.0000\n",
      "Epoch 17/20\n",
      "804/804 [==============================] - 1s 1ms/step - loss: 2.6569e-07 - accuracy: 1.0000\n",
      "Epoch 18/20\n",
      "804/804 [==============================] - 1s 2ms/step - loss: 1.7027e-07 - accuracy: 1.0000\n",
      "Epoch 19/20\n",
      "804/804 [==============================] - 1s 1ms/step - loss: 1.0962e-07 - accuracy: 1.0000\n",
      "Epoch 20/20\n",
      "804/804 [==============================] - 1s 1ms/step - loss: 7.1053e-08 - accuracy: 1.0000\n"
     ]
    }
   ],
   "source": [
    "# Train the model\n",
    "fit_model = nn.fit(X_train, y_train, epochs=20, callbacks=[cp_callback])"
   ]
  },
  {
   "cell_type": "code",
   "execution_count": 17,
   "id": "d32d08db",
   "metadata": {},
   "outputs": [
    {
     "name": "stdout",
     "output_type": "stream",
     "text": [
      "268/268 - 0s - loss: 5.7653e-08 - accuracy: 1.0000 - 344ms/epoch - 1ms/step\n",
      "Loss: 5.765251387401804e-08, Accuracy: 1.0\n"
     ]
    }
   ],
   "source": [
    "# Evaluate the model using the test data\n",
    "model_loss, model_accuracy = nn.evaluate(X_test,y_test,verbose=2)\n",
    "print(f\"Loss: {model_loss}, Accuracy: {model_accuracy}\")"
   ]
  },
  {
   "cell_type": "code",
   "execution_count": 18,
   "id": "ac6d44ab",
   "metadata": {},
   "outputs": [
    {
     "name": "stdout",
     "output_type": "stream",
     "text": [
      "804/804 [==============================] - 4s 4ms/step - loss: 0.0148 - accuracy: 0.9989\n"
     ]
    }
   ],
   "source": [
    "# Create a callback that saves the model's weights every five epochs:\n",
    "from __future__ import print_function\n",
    "import keras\n",
    "from keras.datasets import mnist\n",
    "from keras.models import Sequential\n",
    "from keras.layers import Dense, Dropout, Flatten\n",
    "from keras.layers import Conv2D, MaxPooling2D\n",
    "from keras import backend as K\n",
    "\n",
    "mc = keras.callbacks.ModelCheckpoint('model_weights_optimized.h5', \n",
    "                                     save_weights_only=True, save_freq=5)\n",
    "nn.fit(X_train_scaled, y_train, callbacks=[mc])\n",
    "\n",
    "# Export our model to HDF5 file\n",
    "nn.save('AlphabetSoupCharity_Optimization.h5')"
   ]
  },
  {
   "cell_type": "markdown",
   "id": "aa7d033f",
   "metadata": {},
   "source": [
    "# Report Summary"
   ]
  },
  {
   "cell_type": "markdown",
   "id": "53dd2d7a",
   "metadata": {},
   "source": [
    "## Overview\n",
    "- The purpose of this analysis is to **help the nonprofit foundation Alphabet Soup by creating a tool that can help it select its' applicants for funding with the best chance of success in their ventures.** \n",
    "- **Binary classifier model** was created using some knowledge of machine learning and neural networks, analyzing a set of determined features based on the provided dataset **to predict whether applicants will be successful if funded by Alphabet Soup.**"
   ]
  },
  {
   "cell_type": "markdown",
   "id": "afd80866",
   "metadata": {},
   "source": [
    "### Results\n",
    "\n",
    "**Data Preprocessing**\n",
    "- Target variable(s): **IS_SUCCESSFUL** — Was the money used effectively\n",
    "- Feature(s) explored: **ORGANIZATION** — Organization type & **AFFILIATION** — Affiliated sector of industry\n",
    "- Variables that were removed: **EIN** and **NAME**, **CLASSIFICATION** and **ASK_AMT**\n",
    "\n",
    "**Compiling, Training, and Evaluating the Model**\n",
    "- Total Neurons used: **14**\n",
    "- Total Layers used: **3**\n",
    "\n",
    "> - **Layer 1:** 8 neurons\n",
    "> - **Layer 2:** 5 neurons\n",
    "> - **Layer 3(Output Layer):** 1 neuron\n",
    "\n",
    "- Activation functions used:\n",
    "\n",
    "> - **Rectified Linear Unit(relu):** converts model inputs into usable 1's and 0's for easier processing\n",
    "> - **Sigmoid:** converts model inputs into usable 1's and 0's for easier processing\n",
    "\n",
    "This was determined using insight from a similar **GT Bootcamp modeling exercise** *GettingReal_Preprocessing*: these methods demonstrated binary classification techniques that were deemed applicable in this business cse. \n",
    "\n",
    "**Model Score**\n",
    "- Model Accuracy/Perfromance Score: **0.9989**\n"
   ]
  },
  {
   "cell_type": "markdown",
   "id": "986d0a07",
   "metadata": {},
   "source": [
    "### Summary\n",
    "\n",
    "**Model Interpretation**\n",
    "- This model is deemed to be 99.8% confident in predicting whether applicants will be successful if funded by Alphabet Soup.\n",
    "- This model was trained and optimized from a ~ 72% accuracy score ( found within notebook *Deep Learning_Brandyn* ) into this more accurate model by using a more rebust binning method to drop **EIN** and **NAME**, **CLASSIFICATION** and **ASK_AMT** based on their low level of impact deemed thorugh analyzing the # of unique values they displayed and removing those less than \n",
    "\n",
    "**Further Recommendations**\n",
    "- I would possibly look into a k-means method of classifictaion in my next iteration. "
   ]
  },
  {
   "cell_type": "code",
   "execution_count": null,
   "id": "be3305c8",
   "metadata": {},
   "outputs": [],
   "source": []
  }
 ],
 "metadata": {
  "kernelspec": {
   "display_name": "Python 3 (ipykernel)",
   "language": "python",
   "name": "python3"
  },
  "language_info": {
   "codemirror_mode": {
    "name": "ipython",
    "version": 3
   },
   "file_extension": ".py",
   "mimetype": "text/x-python",
   "name": "python",
   "nbconvert_exporter": "python",
   "pygments_lexer": "ipython3",
   "version": "3.9.12"
  }
 },
 "nbformat": 4,
 "nbformat_minor": 5
}
